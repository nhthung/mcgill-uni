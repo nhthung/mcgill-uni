{
 "cells": [
  {
   "cell_type": "code",
   "execution_count": 16,
   "metadata": {},
   "outputs": [],
   "source": [
    "import numpy as np\n",
    "import random\n",
    "import matplotlib.pyplot as plt\n",
    "import pickle, gzip, urllib.request, json"
   ]
  },
  {
   "cell_type": "code",
   "execution_count": 8,
   "metadata": {},
   "outputs": [],
   "source": [
    "#To ensure reproducibility\n",
    "random.seed(11)\n",
    "np.random.seed(11)"
   ]
  },
  {
   "cell_type": "code",
   "execution_count": 37,
   "metadata": {},
   "outputs": [
    {
     "name": "stdout",
     "output_type": "stream",
     "text": [
      "(50000, 784)\n",
      "(50000,)\n",
      "(10000, 784)\n",
      "(10000,)\n"
     ]
    }
   ],
   "source": [
    "# Load the dataset\n",
    "urllib.request.urlretrieve(\"http://deeplearning.net/data/mnist/mnist.pkl.gz\", \"mnist.pkl.gz\")\n",
    "with gzip.open('mnist.pkl.gz', 'rb') as f:\n",
    "    train_set, valid_set, test_set = pickle.load(f, encoding='latin1')\n",
    "    \n",
    "train_images = train_set[0]\n",
    "train_labels = train_set[1]\n",
    "\n",
    "test_images = test_set[0]\n",
    "test_labels = test_set[1]\n",
    "\n",
    "# Check that we have the expected shape of arrays, should be (50000, 784), (50000,), (10000, 784), (10000,)\n",
    "print(train_images.shape)\n",
    "print(train_labels.shape)\n",
    "\n",
    "print(test_images.shape)\n",
    "print(test_labels.shape)"
   ]
  },
  {
   "cell_type": "code",
   "execution_count": 36,
   "metadata": {},
   "outputs": [
    {
     "name": "stdout",
     "output_type": "stream",
     "text": [
      "(28, 28)\n",
      "5\n"
     ]
    },
    {
     "data": {
      "image/png": "[encoded data removed]",
      "text/plain": [
       "<matplotlib.figure.Figure at 0x1155931d0>"
      ]
     },
     "metadata": {},
     "output_type": "display_data"
    }
   ],
   "source": [
    "#Plot the first training image and label\n",
    "train_sample1 = train_images[0,:]\n",
    "train_sample1 = train_sample1.reshape((28, 28))\n",
    "label = train_labels[0]\n",
    "print(train_sample1.shape)\n",
    "print(label)\n",
    "\n",
    "plt.title('Label is {label}'.format(label=label))\n",
    "plt.imshow(train_sample1, cmap='gray')\n",
    "plt.show()"
   ]
  },
  {
   "cell_type": "code",
   "execution_count": null,
   "metadata": {},
   "outputs": [],
   "source": [
    "class boltzmann_machine(object):\n",
    "    \"\"\"\n",
    "    Define a class for a boltzmann machine here.\n",
    "    You must also define the functions below, but you can add additional arguments, etc.\n",
    "    Also, note that you are welcome to write your own helper functions. \n",
    "    Reminder: you should use numpy functions for vector and matrix operations. No autograd!\n",
    "    \"\"\"\n",
    "    \n",
    "    # The initialization function for the boltzmann machine\n",
    "    def __init__(self):\n",
    "    \"\"\"\n",
    "    Comment!!!! Your marks depend on it!\n",
    "    \"\"\"\n",
    "    \n",
    "    # The function for Gibbs sampling\n",
    "    def gibbs(self):\n",
    "    \"\"\"\n",
    "    Comment!!!! Your marks depend on it!\n",
    "    \"\"\"\n",
    "    \n",
    "    # The function for training the boltzmann machine\n",
    "    def train(self,train_images):\n",
    "    \"\"\"\n",
    "    This function must print out the loss values on the training set.\n",
    "    Comment!!!! Your marks depend on it!\n",
    "    \"\"\"\n",
    "    \n",
    "    # The function for testing the boltzmann machine\n",
    "    def test(self,test_images):\n",
    "    \"\"\"\n",
    "    This function must print out the loss values on the test set.\n",
    "    Comment!!!! Your marks depend on it!\n",
    "    \"\"\"\n",
    "    \n",
    "    # The function for testing the boltzmann machine\n",
    "    def test(self):\n",
    "    \"\"\"\n",
    "    This function must return a numpy array of generated images.\n",
    "    Comment!!!! Your marks depend on it!\n",
    "    \"\"\"\n",
    "    "
   ]
  },
  {
   "cell_type": "code",
   "execution_count": null,
   "metadata": {},
   "outputs": [],
   "source": [
    "# Create a Boltzmann machine and train it"
   ]
  },
  {
   "cell_type": "code",
   "execution_count": null,
   "metadata": {},
   "outputs": [],
   "source": [
    "# Plot generated images from your Boltzmann machine running freely (no clamping)"
   ]
  }
 ],
 "metadata": {
  "kernelspec": {
   "display_name": "Python 3",
   "language": "python",
   "name": "python3"
  },
  "language_info": {
   "codemirror_mode": {
    "name": "ipython",
    "version": 3
   },
   "file_extension": ".py",
   "mimetype": "text/x-python",
   "name": "python",
   "nbconvert_exporter": "python",
   "pygments_lexer": "ipython3",
   "version": "3.7.5"
  }
 },
 "nbformat": 4,
 "nbformat_minor": 2
}
